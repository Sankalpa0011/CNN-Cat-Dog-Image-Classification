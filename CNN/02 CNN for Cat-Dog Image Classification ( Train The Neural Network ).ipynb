{
 "cells": [
  {
   "cell_type": "markdown",
   "id": "007ebc45",
   "metadata": {},
   "source": [
    "## Import Libraries"
   ]
  },
  {
   "cell_type": "code",
   "execution_count": 17,
   "id": "15a6e0cc",
   "metadata": {},
   "outputs": [],
   "source": [
    "import numpy as np\n",
    "import matplotlib.pyplot as plt\n",
    "\n",
    "from sklearn.model_selection import train_test_split\n",
    "\n",
    "from keras.models import Sequential\n",
    "from keras.layers import Dense, Dropout, Activation, Flatten\n",
    "from keras.layers import Conv2D, MaxPooling2D\n",
    "from keras.optimizers import Adam, Adadelta, Adagrad\n",
    "from keras_tuner.tuners import RandomSearch"
   ]
  },
  {
   "cell_type": "markdown",
   "id": "a6ab4666",
   "metadata": {},
   "source": [
    "## Data Preprocessing"
   ]
  },
  {
   "cell_type": "code",
   "execution_count": 18,
   "id": "61ca704b",
   "metadata": {},
   "outputs": [],
   "source": [
    "# Load datasets\n",
    "\n",
    "data = np.load(\"data.npy\")\n",
    "target = np.load(\"target.npy\")"
   ]
  },
  {
   "cell_type": "code",
   "execution_count": 19,
   "id": "5c8c1013",
   "metadata": {},
   "outputs": [
    {
     "name": "stdout",
     "output_type": "stream",
     "text": [
      "(24966, 50, 50, 1)\n",
      "(24966, 2)\n"
     ]
    }
   ],
   "source": [
    "# shapes of the datsets\n",
    "print(data.shape)\n",
    "print(target.shape)"
   ]
  },
  {
   "cell_type": "markdown",
   "id": "fc1b269a",
   "metadata": {},
   "source": [
    "## Split Train Test"
   ]
  },
  {
   "cell_type": "code",
   "execution_count": 20,
   "id": "c17589dd",
   "metadata": {},
   "outputs": [],
   "source": [
    "x_train, x_test, y_train, y_test = train_test_split(data, target, test_size=0.1)"
   ]
  },
  {
   "cell_type": "markdown",
   "id": "8f0ed6cf",
   "metadata": {},
   "source": [
    "## Convolutional Neural Network Architecture"
   ]
  },
  {
   "cell_type": "markdown",
   "id": "aebc34d1",
   "metadata": {},
   "source": [
    "<figure>\n",
    "    <center> <img src=\"./img/5.PNG\"><center/>\n",
    "</figure>"
   ]
  },
  {
   "cell_type": "markdown",
   "id": "7b23147b",
   "metadata": {},
   "source": [
    "## Keras Tuner ( Hyper Parameter Optimization )"
   ]
  },
  {
   "cell_type": "code",
   "execution_count": 21,
   "id": "fdf88e0e",
   "metadata": {},
   "outputs": [],
   "source": [
    "def build_model(parameters):\n",
    "    \n",
    "    model = Sequential()\n",
    "    \n",
    "    for i in range(parameters.Int(\"#layers \", 2,20)):      \n",
    "        \n",
    "        if(i==0):\n",
    "            model.add(Conv2D(filters=parameters.Int(\"#conv layer \" + str(i), min_value=32, max_value=512, step=32), \n",
    "                             kernel_size=(3, 3),\n",
    "                             input_shape=data.shape[1:]))\n",
    "            \n",
    "            model.add(Activation(\"relu\"))\n",
    "            model.add(MaxPooling2D(pool_size=(2, 2)))\n",
    "         \n",
    "        \n",
    "        elif(i==1):\n",
    "            model.add(Conv2D(filters=parameters.Int(\"#cov layer \" + str(i), min_value=32, max_value=512, step=32), \n",
    "                             kernel_size=(3, 3)))\n",
    "                      \n",
    "            model.add(Activation(\"relu\"))\n",
    "            model.add(MaxPooling2D(pool_size=(2, 2)))\n",
    "       \n",
    "                      \n",
    "        elif(i==2):\n",
    "            model.add(Flatten())\n",
    "            model.add(Dropout(0.5))           \n",
    "            \n",
    "                      \n",
    "        else:\n",
    "            model.add(Dense(units=parameters.Int(\"#neuron layer \" + str(i), min_value=32, max_value=512, step=32),\n",
    "                           activation=parameters.Choice(\"activation function \" + str(i), [\"relu\", \"sigmoid\", \"tanh\"])))\n",
    "                      \n",
    "            model.add(Dropout(parameters.Choice(\"drop probability \", ([0.2, 0.3, 0.4, 0.5]))))\n",
    "                    \n",
    "                      \n",
    "    model.add(Dense(2, activation=\"softmax\"))                 \n",
    "    \n",
    "    # compile\n",
    "    model.compile(optimizer=parameters.Choice(\"optimizer \", [\"adam\", \"adadelta\", \"adagrad\"]), loss=\"binary_crossentropy\")  \n",
    "                    \n",
    "    # model.compile(optimizer=Adam(parameters.Choice(learning_rate=[1e-2, 1e-3, 1e-4])), loss=\"mse\")\n",
    "    # model.compile(optimizer=AdaDelta(parameters.Choice(learning_rate=[1e-2, 1e-3, 1e-4])), loss=\"mse\")\n",
    "    # model.compile(optimizer=AdaGrade(parameters.Choice(learning_rate=[1e-2, 1e-3, 1e-4])), loss=\"mse\")\n",
    "                      \n",
    "    return model      "
   ]
  },
  {
   "cell_type": "code",
   "execution_count": 22,
   "id": "d04c185b",
   "metadata": {},
   "outputs": [],
   "source": [
    "tuner = RandomSearch(build_model, objective=\"val_loss\", max_trials=3, executions_per_trial=2, directory=\"project-CNN-Cat-Dog\", \n",
    "                     project_name=\"Cat-Dog\")"
   ]
  },
  {
   "cell_type": "code",
   "execution_count": 23,
   "id": "24b80e17",
   "metadata": {},
   "outputs": [
    {
     "name": "stdout",
     "output_type": "stream",
     "text": [
      "Search space summary\n",
      "Default search space size: 4\n",
      "#layers  (Int)\n",
      "{'default': None, 'conditions': [], 'min_value': 2, 'max_value': 20, 'step': 1, 'sampling': 'linear'}\n",
      "#conv layer 0 (Int)\n",
      "{'default': None, 'conditions': [], 'min_value': 32, 'max_value': 512, 'step': 32, 'sampling': 'linear'}\n",
      "#cov layer 1 (Int)\n",
      "{'default': None, 'conditions': [], 'min_value': 32, 'max_value': 512, 'step': 32, 'sampling': 'linear'}\n",
      "optimizer  (Choice)\n",
      "{'default': 'adam', 'conditions': [], 'values': ['adam', 'adadelta', 'adagrad'], 'ordered': False}\n"
     ]
    }
   ],
   "source": [
    "tuner.search_space_summary()"
   ]
  },
  {
   "cell_type": "markdown",
   "id": "6722dcbe",
   "metadata": {},
   "source": [
    "## Search Best Parameters For The Model"
   ]
  },
  {
   "cell_type": "code",
   "execution_count": null,
   "id": "c26653e3",
   "metadata": {},
   "outputs": [
    {
     "name": "stdout",
     "output_type": "stream",
     "text": [
      "\n",
      "Search: Running Trial #1\n",
      "\n",
      "Value             |Best Value So Far |Hyperparameter\n",
      "13                |13                |#layers \n",
      "224               |224               |#conv layer 0\n",
      "128               |128               |#cov layer 1\n",
      "adam              |adam              |optimizer \n",
      "\n",
      "Epoch 1/10\n",
      "\u001b[1m202/703\u001b[0m \u001b[32m━━━━━\u001b[0m\u001b[37m━━━━━━━━━━━━━━━\u001b[0m \u001b[1m1:03\u001b[0m 127ms/step - loss: 0.6939"
     ]
    }
   ],
   "source": [
    "tuner.search(x_train, y_train, epochs=10, validation_data=(x_test, y_test))"
   ]
  },
  {
   "cell_type": "code",
   "execution_count": null,
   "id": "75dcd644",
   "metadata": {},
   "outputs": [],
   "source": [
    "tuner.results_summary() "
   ]
  },
  {
   "cell_type": "code",
   "execution_count": null,
   "id": "d04e528a",
   "metadata": {},
   "outputs": [],
   "source": [
    "best_model = tuner.get_best_models()\n",
    "print(f\"Best Model: {best_model[0].summary()} \")"
   ]
  },
  {
   "cell_type": "markdown",
   "id": "95c4ce82",
   "metadata": {},
   "source": [
    "## CNN Architecture"
   ]
  },
  {
   "cell_type": "code",
   "execution_count": null,
   "id": "c4c89060",
   "metadata": {},
   "outputs": [],
   "source": [
    "model = Sequential()\n",
    "                     \n",
    "model.add(Conv2D(256, (3, 3), input_shape=data.shape[1:]))  \n",
    "model.add(Activation(\"relu\"))\n",
    "model.add(MaxPooling2D(pool_size=(2, 2)))\n",
    "# The first CNN layer followed by Relu and MaxPooling2D Layer\n",
    "\n",
    "model.add(Conv2D(128, (3, 3)))\n",
    "model.add(Activation(\"relu\"))\n",
    "model.add(MaxPooling2D(pool_size=(2, 2)))\n",
    "# The second CNN layer followed by Relu and MaxPooling2D Layer\n",
    "\n",
    "model.add(Flatten())\n",
    "# Flatten layer to stack the output convolutions from second convolutional layer\n",
    "model.add(Dropout(0.5))  \n",
    "# For reduce overfitting\n",
    "model.add(Dense(1000, activation=\"relu\"))\n",
    "model.add(Dropout(0.5))\n",
    "model.add(Dense(128, activation=\"relu\"))\n",
    "model.add(Dropout(0.5))\n",
    "model.add(Dense(64, activation=\"relu\"))\n",
    "# The final layer with two outputs neurons for two categories\n",
    "model.add(Dense(2, activation=\"softmax\")) \n",
    "# softmax used for claasification problem\n",
    "\n",
    "# compile \n",
    "model.compile(loss=\"categorical_crossentropy\", optimizer=\"adam\", metrics=[\"accuracy\"])\n",
    "\n",
    "# summary\n",
    "model.summary()"
   ]
  },
  {
   "cell_type": "markdown",
   "id": "3581f8d6",
   "metadata": {},
   "source": [
    "## Train The CNN"
   ]
  },
  {
   "cell_type": "code",
   "execution_count": null,
   "id": "ac312812",
   "metadata": {},
   "outputs": [],
   "source": [
    "history = model.fit(x_train, y_train, epochs=10, validation_data=(x_test, y_test))"
   ]
  },
  {
   "cell_type": "markdown",
   "id": "ba8ab02e",
   "metadata": {},
   "source": [
    "## Visualizing The Loss And The Accuracy of Trained CNN"
   ]
  },
  {
   "cell_type": "code",
   "execution_count": null,
   "id": "2760d8bb",
   "metadata": {},
   "outputs": [],
   "source": [
    "plt.plot(history.history[\"loss\"])\n",
    "plt.plot(history.history[\"val_loss\"])\n",
    "plt.xlabel(\"Epochs\")\n",
    "plt.ylabel(\"Loss\")\n",
    "plt.show()"
   ]
  },
  {
   "cell_type": "code",
   "execution_count": null,
   "id": "46c53987",
   "metadata": {},
   "outputs": [],
   "source": [
    "plt.plot(history.history[\"accuracy\"])\n",
    "plt.plot(history.history[\"val_accuracy\"])\n",
    "plt.xlabel(\"Epochs\")\n",
    "plt.ylabel(\"Accuracy\")\n",
    "plt.show()"
   ]
  },
  {
   "cell_type": "markdown",
   "id": "e248816f",
   "metadata": {},
   "source": [
    "## Evaluating The CNN Using Testing Data"
   ]
  },
  {
   "cell_type": "code",
   "execution_count": null,
   "id": "2286f356",
   "metadata": {},
   "outputs": [],
   "source": [
    "loss_accuracy = model.evaluate(x_test, y_test)\n",
    "print(f\"Loss: {loss_accuracy[0]} \\nAccuracy: {loss_accuracy[1]}\")"
   ]
  }
 ],
 "metadata": {
  "kernelspec": {
   "display_name": "Python 3 (ipykernel)",
   "language": "python",
   "name": "python3"
  },
  "language_info": {
   "codemirror_mode": {
    "name": "ipython",
    "version": 3
   },
   "file_extension": ".py",
   "mimetype": "text/x-python",
   "name": "python",
   "nbconvert_exporter": "python",
   "pygments_lexer": "ipython3",
   "version": "3.11.4"
  }
 },
 "nbformat": 4,
 "nbformat_minor": 5
}
