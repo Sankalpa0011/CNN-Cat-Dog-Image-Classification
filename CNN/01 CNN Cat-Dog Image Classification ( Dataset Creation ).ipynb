{
 "cells": [
  {
   "cell_type": "markdown",
   "id": "fdf6c79c",
   "metadata": {},
   "source": [
    "## Import Libraries"
   ]
  },
  {
   "cell_type": "code",
   "execution_count": 4,
   "id": "473e604d",
   "metadata": {},
   "outputs": [],
   "source": [
    "import numpy as np\n",
    "import matplotlib.pyplot as plt\n",
    "\n",
    "import cv2, os\n",
    "from keras.utils import to_categorical"
   ]
  },
  {
   "cell_type": "markdown",
   "id": "ede0d722",
   "metadata": {},
   "source": [
    "## Import Dataset"
   ]
  },
  {
   "cell_type": "code",
   "execution_count": 5,
   "id": "8d5ae35f",
   "metadata": {},
   "outputs": [
    {
     "name": "stdout",
     "output_type": "stream",
     "text": [
      "['Cat', 'Dog']\n",
      "[0 1]\n",
      "{'Cat': 0, 'Dog': 1}\n"
     ]
    }
   ],
   "source": [
    "data_path = r\"C:\\\\Users\\\\DELL\\\\ML-DL\\\\Edxcope\\\\datasets\\\\catsanddogs_5340\\\\PetImages\"\n",
    "\n",
    "\n",
    "categories = os.listdir(data_path) \n",
    "labels = np.arange(len(categories))     \n",
    "label_dict = dict(zip(categories, labels))    \n",
    "\n",
    "print(categories)\n",
    "print(labels)\n",
    "print(label_dict)"
   ]
  },
  {
   "cell_type": "markdown",
   "id": "91d00307",
   "metadata": {},
   "source": [
    "## Make The Dataset"
   ]
  },
  {
   "cell_type": "code",
   "execution_count": 6,
   "id": "45a7a98a",
   "metadata": {
    "scrolled": true
   },
   "outputs": [
    {
     "name": "stdout",
     "output_type": "stream",
     "text": [
      "C:\\\\Users\\\\DELL\\\\ML-DL\\\\Edxcope\\\\datasets\\\\catsanddogs_5340\\\\PetImages\\Cat\\7968.jpg OpenCV(4.10.0) D:\\a\\opencv-python\\opencv-python\\opencv\\modules\\imgproc\\src\\color.cpp:196: error: (-215:Assertion failed) !_src.empty() in function 'cv::cvtColor'\n",
      "\n",
      "C:\\\\Users\\\\DELL\\\\ML-DL\\\\Edxcope\\\\datasets\\\\catsanddogs_5340\\\\PetImages\\Cat\\8470.jpg OpenCV(4.10.0) D:\\a\\opencv-python\\opencv-python\\opencv\\modules\\imgproc\\src\\color.cpp:196: error: (-215:Assertion failed) !_src.empty() in function 'cv::cvtColor'\n",
      "\n",
      "C:\\\\Users\\\\DELL\\\\ML-DL\\\\Edxcope\\\\datasets\\\\catsanddogs_5340\\\\PetImages\\Cat\\850.jpg OpenCV(4.10.0) D:\\a\\opencv-python\\opencv-python\\opencv\\modules\\imgproc\\src\\color.cpp:196: error: (-215:Assertion failed) !_src.empty() in function 'cv::cvtColor'\n",
      "\n",
      "C:\\\\Users\\\\DELL\\\\ML-DL\\\\Edxcope\\\\datasets\\\\catsanddogs_5340\\\\PetImages\\Cat\\9565.jpg OpenCV(4.10.0) D:\\a\\opencv-python\\opencv-python\\opencv\\modules\\imgproc\\src\\color.cpp:196: error: (-215:Assertion failed) !_src.empty() in function 'cv::cvtColor'\n",
      "\n",
      "C:\\\\Users\\\\DELL\\\\ML-DL\\\\Edxcope\\\\datasets\\\\catsanddogs_5340\\\\PetImages\\Dog\\10158.jpg OpenCV(4.10.0) D:\\a\\opencv-python\\opencv-python\\opencv\\modules\\imgproc\\src\\color.cpp:196: error: (-215:Assertion failed) !_src.empty() in function 'cv::cvtColor'\n",
      "\n",
      "C:\\\\Users\\\\DELL\\\\ML-DL\\\\Edxcope\\\\datasets\\\\catsanddogs_5340\\\\PetImages\\Dog\\10401.jpg OpenCV(4.10.0) D:\\a\\opencv-python\\opencv-python\\opencv\\modules\\imgproc\\src\\color.cpp:196: error: (-215:Assertion failed) !_src.empty() in function 'cv::cvtColor'\n",
      "\n",
      "C:\\\\Users\\\\DELL\\\\ML-DL\\\\Edxcope\\\\datasets\\\\catsanddogs_5340\\\\PetImages\\Dog\\10747.jpg OpenCV(4.10.0) D:\\a\\opencv-python\\opencv-python\\opencv\\modules\\imgproc\\src\\color.cpp:196: error: (-215:Assertion failed) !_src.empty() in function 'cv::cvtColor'\n",
      "\n",
      "C:\\\\Users\\\\DELL\\\\ML-DL\\\\Edxcope\\\\datasets\\\\catsanddogs_5340\\\\PetImages\\Dog\\10797.jpg OpenCV(4.10.0) D:\\a\\opencv-python\\opencv-python\\opencv\\modules\\imgproc\\src\\color.cpp:196: error: (-215:Assertion failed) !_src.empty() in function 'cv::cvtColor'\n",
      "\n",
      "C:\\\\Users\\\\DELL\\\\ML-DL\\\\Edxcope\\\\datasets\\\\catsanddogs_5340\\\\PetImages\\Dog\\11410.jpg OpenCV(4.10.0) D:\\a\\opencv-python\\opencv-python\\opencv\\modules\\imgproc\\src\\color.cpp:196: error: (-215:Assertion failed) !_src.empty() in function 'cv::cvtColor'\n",
      "\n",
      "C:\\\\Users\\\\DELL\\\\ML-DL\\\\Edxcope\\\\datasets\\\\catsanddogs_5340\\\\PetImages\\Dog\\11675.jpg OpenCV(4.10.0) D:\\a\\opencv-python\\opencv-python\\opencv\\modules\\imgproc\\src\\color.cpp:196: error: (-215:Assertion failed) !_src.empty() in function 'cv::cvtColor'\n",
      "\n",
      "C:\\\\Users\\\\DELL\\\\ML-DL\\\\Edxcope\\\\datasets\\\\catsanddogs_5340\\\\PetImages\\Dog\\11702.jpg OpenCV(4.10.0) D:\\a\\opencv-python\\opencv-python\\opencv\\modules\\imgproc\\src\\color.cpp:196: error: (-215:Assertion failed) !_src.empty() in function 'cv::cvtColor'\n",
      "\n",
      "C:\\\\Users\\\\DELL\\\\ML-DL\\\\Edxcope\\\\datasets\\\\catsanddogs_5340\\\\PetImages\\Dog\\11849.jpg OpenCV(4.10.0) D:\\a\\opencv-python\\opencv-python\\opencv\\modules\\imgproc\\src\\color.cpp:196: error: (-215:Assertion failed) !_src.empty() in function 'cv::cvtColor'\n",
      "\n",
      "C:\\\\Users\\\\DELL\\\\ML-DL\\\\Edxcope\\\\datasets\\\\catsanddogs_5340\\\\PetImages\\Dog\\11853.jpg OpenCV(4.10.0) D:\\a\\opencv-python\\opencv-python\\opencv\\modules\\imgproc\\src\\color.cpp:196: error: (-215:Assertion failed) !_src.empty() in function 'cv::cvtColor'\n",
      "\n",
      "C:\\\\Users\\\\DELL\\\\ML-DL\\\\Edxcope\\\\datasets\\\\catsanddogs_5340\\\\PetImages\\Dog\\1308.jpg OpenCV(4.10.0) D:\\a\\opencv-python\\opencv-python\\opencv\\modules\\imgproc\\src\\color.cpp:196: error: (-215:Assertion failed) !_src.empty() in function 'cv::cvtColor'\n",
      "\n",
      "C:\\\\Users\\\\DELL\\\\ML-DL\\\\Edxcope\\\\datasets\\\\catsanddogs_5340\\\\PetImages\\Dog\\1866.jpg OpenCV(4.10.0) D:\\a\\opencv-python\\opencv-python\\opencv\\modules\\imgproc\\src\\color.cpp:196: error: (-215:Assertion failed) !_src.empty() in function 'cv::cvtColor'\n",
      "\n",
      "C:\\\\Users\\\\DELL\\\\ML-DL\\\\Edxcope\\\\datasets\\\\catsanddogs_5340\\\\PetImages\\Dog\\2384.jpg OpenCV(4.10.0) D:\\a\\opencv-python\\opencv-python\\opencv\\modules\\imgproc\\src\\color.cpp:196: error: (-215:Assertion failed) !_src.empty() in function 'cv::cvtColor'\n",
      "\n",
      "C:\\\\Users\\\\DELL\\\\ML-DL\\\\Edxcope\\\\datasets\\\\catsanddogs_5340\\\\PetImages\\Dog\\2688.jpg OpenCV(4.10.0) D:\\a\\opencv-python\\opencv-python\\opencv\\modules\\imgproc\\src\\color.cpp:196: error: (-215:Assertion failed) !_src.empty() in function 'cv::cvtColor'\n",
      "\n",
      "C:\\\\Users\\\\DELL\\\\ML-DL\\\\Edxcope\\\\datasets\\\\catsanddogs_5340\\\\PetImages\\Dog\\2877.jpg OpenCV(4.10.0) D:\\a\\opencv-python\\opencv-python\\opencv\\modules\\imgproc\\src\\color.cpp:196: error: (-215:Assertion failed) !_src.empty() in function 'cv::cvtColor'\n",
      "\n",
      "C:\\\\Users\\\\DELL\\\\ML-DL\\\\Edxcope\\\\datasets\\\\catsanddogs_5340\\\\PetImages\\Dog\\3136.jpg OpenCV(4.10.0) D:\\a\\opencv-python\\opencv-python\\opencv\\modules\\imgproc\\src\\color.cpp:196: error: (-215:Assertion failed) !_src.empty() in function 'cv::cvtColor'\n",
      "\n",
      "C:\\\\Users\\\\DELL\\\\ML-DL\\\\Edxcope\\\\datasets\\\\catsanddogs_5340\\\\PetImages\\Dog\\3288.jpg OpenCV(4.10.0) D:\\a\\opencv-python\\opencv-python\\opencv\\modules\\imgproc\\src\\color.cpp:196: error: (-215:Assertion failed) !_src.empty() in function 'cv::cvtColor'\n",
      "\n",
      "C:\\\\Users\\\\DELL\\\\ML-DL\\\\Edxcope\\\\datasets\\\\catsanddogs_5340\\\\PetImages\\Dog\\3588.jpg OpenCV(4.10.0) D:\\a\\opencv-python\\opencv-python\\opencv\\modules\\imgproc\\src\\color.cpp:196: error: (-215:Assertion failed) !_src.empty() in function 'cv::cvtColor'\n",
      "\n",
      "C:\\\\Users\\\\DELL\\\\ML-DL\\\\Edxcope\\\\datasets\\\\catsanddogs_5340\\\\PetImages\\Dog\\4367.jpg OpenCV(4.10.0) D:\\a\\opencv-python\\opencv-python\\opencv\\modules\\imgproc\\src\\color.cpp:196: error: (-215:Assertion failed) !_src.empty() in function 'cv::cvtColor'\n",
      "\n",
      "C:\\\\Users\\\\DELL\\\\ML-DL\\\\Edxcope\\\\datasets\\\\catsanddogs_5340\\\\PetImages\\Dog\\5604.jpg OpenCV(4.10.0) D:\\a\\opencv-python\\opencv-python\\opencv\\modules\\imgproc\\src\\color.cpp:196: error: (-215:Assertion failed) !_src.empty() in function 'cv::cvtColor'\n",
      "\n",
      "C:\\\\Users\\\\DELL\\\\ML-DL\\\\Edxcope\\\\datasets\\\\catsanddogs_5340\\\\PetImages\\Dog\\5736.jpg OpenCV(4.10.0) D:\\a\\opencv-python\\opencv-python\\opencv\\modules\\imgproc\\src\\color.cpp:196: error: (-215:Assertion failed) !_src.empty() in function 'cv::cvtColor'\n",
      "\n",
      "C:\\\\Users\\\\DELL\\\\ML-DL\\\\Edxcope\\\\datasets\\\\catsanddogs_5340\\\\PetImages\\Dog\\6059.jpg OpenCV(4.10.0) D:\\a\\opencv-python\\opencv-python\\opencv\\modules\\imgproc\\src\\color.cpp:196: error: (-215:Assertion failed) !_src.empty() in function 'cv::cvtColor'\n",
      "\n",
      "C:\\\\Users\\\\DELL\\\\ML-DL\\\\Edxcope\\\\datasets\\\\catsanddogs_5340\\\\PetImages\\Dog\\6238.jpg OpenCV(4.10.0) D:\\a\\opencv-python\\opencv-python\\opencv\\modules\\imgproc\\src\\color.cpp:196: error: (-215:Assertion failed) !_src.empty() in function 'cv::cvtColor'\n",
      "\n",
      "C:\\\\Users\\\\DELL\\\\ML-DL\\\\Edxcope\\\\datasets\\\\catsanddogs_5340\\\\PetImages\\Dog\\6718.jpg OpenCV(4.10.0) D:\\a\\opencv-python\\opencv-python\\opencv\\modules\\imgproc\\src\\color.cpp:196: error: (-215:Assertion failed) !_src.empty() in function 'cv::cvtColor'\n",
      "\n",
      "C:\\\\Users\\\\DELL\\\\ML-DL\\\\Edxcope\\\\datasets\\\\catsanddogs_5340\\\\PetImages\\Dog\\7112.jpg OpenCV(4.10.0) D:\\a\\opencv-python\\opencv-python\\opencv\\modules\\imgproc\\src\\color.cpp:196: error: (-215:Assertion failed) !_src.empty() in function 'cv::cvtColor'\n",
      "\n",
      "C:\\\\Users\\\\DELL\\\\ML-DL\\\\Edxcope\\\\datasets\\\\catsanddogs_5340\\\\PetImages\\Dog\\7133.jpg OpenCV(4.10.0) D:\\a\\opencv-python\\opencv-python\\opencv\\modules\\imgproc\\src\\color.cpp:196: error: (-215:Assertion failed) !_src.empty() in function 'cv::cvtColor'\n",
      "\n",
      "C:\\\\Users\\\\DELL\\\\ML-DL\\\\Edxcope\\\\datasets\\\\catsanddogs_5340\\\\PetImages\\Dog\\7369.jpg OpenCV(4.10.0) D:\\a\\opencv-python\\opencv-python\\opencv\\modules\\imgproc\\src\\color.cpp:196: error: (-215:Assertion failed) !_src.empty() in function 'cv::cvtColor'\n",
      "\n",
      "C:\\\\Users\\\\DELL\\\\ML-DL\\\\Edxcope\\\\datasets\\\\catsanddogs_5340\\\\PetImages\\Dog\\7459.jpg OpenCV(4.10.0) D:\\a\\opencv-python\\opencv-python\\opencv\\modules\\imgproc\\src\\color.cpp:196: error: (-215:Assertion failed) !_src.empty() in function 'cv::cvtColor'\n",
      "\n",
      "C:\\\\Users\\\\DELL\\\\ML-DL\\\\Edxcope\\\\datasets\\\\catsanddogs_5340\\\\PetImages\\Dog\\7969.jpg OpenCV(4.10.0) D:\\a\\opencv-python\\opencv-python\\opencv\\modules\\imgproc\\src\\color.cpp:196: error: (-215:Assertion failed) !_src.empty() in function 'cv::cvtColor'\n",
      "\n",
      "C:\\\\Users\\\\DELL\\\\ML-DL\\\\Edxcope\\\\datasets\\\\catsanddogs_5340\\\\PetImages\\Dog\\8730.jpg OpenCV(4.10.0) D:\\a\\opencv-python\\opencv-python\\opencv\\modules\\imgproc\\src\\color.cpp:196: error: (-215:Assertion failed) !_src.empty() in function 'cv::cvtColor'\n",
      "\n",
      "C:\\\\Users\\\\DELL\\\\ML-DL\\\\Edxcope\\\\datasets\\\\catsanddogs_5340\\\\PetImages\\Dog\\9188.jpg OpenCV(4.10.0) D:\\a\\opencv-python\\opencv-python\\opencv\\modules\\imgproc\\src\\color.cpp:196: error: (-215:Assertion failed) !_src.empty() in function 'cv::cvtColor'\n",
      "\n"
     ]
    },
    {
     "name": "stdout",
     "output_type": "stream",
     "text": [
      "C:\\\\Users\\\\DELL\\\\ML-DL\\\\Edxcope\\\\datasets\\\\catsanddogs_5340\\\\PetImages\\Dog\\Thumbs.db OpenCV(4.10.0) D:\\a\\opencv-python\\opencv-python\\opencv\\modules\\imgproc\\src\\color.cpp:196: error: (-215:Assertion failed) !_src.empty() in function 'cv::cvtColor'\n",
      "\n"
     ]
    }
   ],
   "source": [
    "img_size = 50                                                \n",
    "\n",
    "data = []\n",
    "target = []\n",
    "\n",
    "for category in categories:\n",
    "    \n",
    "    folder_path = os.path.join(data_path, category)         \n",
    "    img_names = os.listdir(folder_path)                     \n",
    "    \n",
    "    for img_name in img_names:\n",
    "        img_path = os.path.join(folder_path, img_name)\n",
    "        \n",
    "        try:\n",
    "            img = cv2.imread(img_path)\n",
    "            # cv2.imshow(\"LIVE\", img)                         \n",
    "            # cv2.waitKey(100)                                \n",
    "            gray = cv2.cvtColor(img, cv2.COLOR_BGR2GRAY)    \n",
    "            resized = cv2.resize(gray, (img_size, img_size))\n",
    "            cv2.imshow(\"LIVE\", resized)                        # See loaded iamges previews       \n",
    "            cv2.waitKey(100)                           \n",
    "        \n",
    "            data.append(resized)                  \n",
    "            target.append(label_dict[category])              \n",
    "        \n",
    "        except Exception as error:\n",
    "            print(img_path, error)"
   ]
  },
  {
   "cell_type": "code",
   "execution_count": 7,
   "id": "24d4055a",
   "metadata": {},
   "outputs": [],
   "source": [
    "# convert feature and target to arrays\n",
    "data = np.array(data)\n",
    "target = np.array(target)"
   ]
  },
  {
   "cell_type": "code",
   "execution_count": 8,
   "id": "6fab94da",
   "metadata": {},
   "outputs": [
    {
     "name": "stdout",
     "output_type": "stream",
     "text": [
      "(24966, 50, 50)\n",
      "(24966,)\n"
     ]
    }
   ],
   "source": [
    "print(data.shape)\n",
    "print(target.shape)"
   ]
  },
  {
   "cell_type": "markdown",
   "id": "a6dbf073",
   "metadata": {},
   "source": [
    "## Visualization"
   ]
  },
  {
   "cell_type": "code",
   "execution_count": 9,
   "id": "1689b719",
   "metadata": {},
   "outputs": [
    {
     "data": {
      "image/png": "[encoded data removed]",
      "text/plain": [
       "<Figure size 640x480 with 1 Axes>"
      ]
     },
     "metadata": {},
     "output_type": "display_data"
    }
   ],
   "source": [
    "plt.imshow(data[0], cmap=\"gray\")\n",
    "plt.show()"
   ]
  },
  {
   "cell_type": "code",
   "execution_count": 10,
   "id": "a074ec7e",
   "metadata": {},
   "outputs": [
    {
     "data": {
      "image/png": "[encoded data removed]",
      "text/plain": [
       "<Figure size 640x480 with 1 Axes>"
      ]
     },
     "metadata": {},
     "output_type": "display_data"
    }
   ],
   "source": [
    "plt.imshow(data[20000], cmap=\"gray\")\n",
    "plt.show()"
   ]
  },
  {
   "cell_type": "markdown",
   "id": "8a789898",
   "metadata": {},
   "source": [
    "## Data Normalization "
   ]
  },
  {
   "cell_type": "code",
   "execution_count": 11,
   "id": "560a6470",
   "metadata": {},
   "outputs": [
    {
     "name": "stdout",
     "output_type": "stream",
     "text": [
      "(24966, 50, 50, 1)\n"
     ]
    }
   ],
   "source": [
    "data_new = data / 255.0  \n",
    "data_new = np.reshape(data_new, (data_new.shape[0], data_new.shape[1], data_new.shape[1], 1))  \n",
    "\n",
    "print(data_new.shape)"
   ]
  },
  {
   "cell_type": "markdown",
   "id": "99ead6af",
   "metadata": {},
   "source": [
    "## Catergorical Encoding"
   ]
  },
  {
   "cell_type": "code",
   "execution_count": 12,
   "id": "9ee23257",
   "metadata": {},
   "outputs": [],
   "source": [
    "target_new = to_categorical(target)"
   ]
  },
  {
   "cell_type": "markdown",
   "id": "12ae05db",
   "metadata": {},
   "source": [
    "## Save Datasets"
   ]
  },
  {
   "cell_type": "code",
   "execution_count": 13,
   "id": "d3c44b9e",
   "metadata": {},
   "outputs": [],
   "source": [
    "np.save(\"data\", data_new)\n",
    "np.save(\"target\", target_new)"
   ]
  }
 ],
 "metadata": {
  "kernelspec": {
   "display_name": "Python 3 (ipykernel)",
   "language": "python",
   "name": "python3"
  },
  "language_info": {
   "codemirror_mode": {
    "name": "ipython",
    "version": 3
   },
   "file_extension": ".py",
   "mimetype": "text/x-python",
   "name": "python",
   "nbconvert_exporter": "python",
   "pygments_lexer": "ipython3",
   "version": "3.11.4"
  }
 },
 "nbformat": 4,
 "nbformat_minor": 5
}
